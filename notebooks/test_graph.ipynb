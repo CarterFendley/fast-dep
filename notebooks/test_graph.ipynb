{
 "cells": [
  {
   "cell_type": "code",
   "execution_count": 1,
   "metadata": {},
   "outputs": [],
   "source": [
    "from os import environ\n",
    "\n",
    "environ['RUST_BACKTRACE'] = '1'"
   ]
  },
  {
   "cell_type": "code",
   "execution_count": 1,
   "metadata": {},
   "outputs": [],
   "source": [
    "import logging\n",
    "\n",
    "logging.basicConfig(level=logging.DEBUG)"
   ]
  },
  {
   "cell_type": "code",
   "execution_count": 1,
   "metadata": {},
   "outputs": [],
   "source": [
    "from fast_dep import GraphBuilder"
   ]
  },
  {
   "cell_type": "code",
   "execution_count": 2,
   "metadata": {},
   "outputs": [],
   "source": [
    "builder = GraphBuilder()"
   ]
  },
  {
   "cell_type": "code",
   "execution_count": 3,
   "metadata": {},
   "outputs": [],
   "source": [
    "with open('res/very_simple.py', 'r') as f:\n",
    "    source = f.read()"
   ]
  },
  {
   "cell_type": "code",
   "execution_count": 4,
   "metadata": {},
   "outputs": [],
   "source": [
    "graph = builder.build(source)"
   ]
  },
  {
   "cell_type": "code",
   "execution_count": 5,
   "metadata": {},
   "outputs": [],
   "source": [
    "termainal = graph.get('<terminal>')"
   ]
  },
  {
   "cell_type": "code",
   "execution_count": 6,
   "metadata": {},
   "outputs": [
    {
     "data": {
      "text/plain": [
       "2"
      ]
     },
     "execution_count": 6,
     "metadata": {},
     "output_type": "execute_result"
    }
   ],
   "source": [
    "termainal.dependencies"
   ]
  },
  {
   "cell_type": "code",
   "execution_count": 7,
   "metadata": {},
   "outputs": [],
   "source": [
    "from importlib.util import find_spec\n",
    "\n",
    "find_spec('nt')"
   ]
  },
  {
   "cell_type": "code",
   "execution_count": 8,
   "metadata": {},
   "outputs": [
    {
     "data": {
      "text/plain": [
       "140"
      ]
     },
     "execution_count": 8,
     "metadata": {},
     "output_type": "execute_result"
    }
   ],
   "source": [
    "graph.size()"
   ]
  },
  {
   "cell_type": "code",
   "execution_count": 7,
   "metadata": {},
   "outputs": [
    {
     "data": {
      "text/plain": [
       "{'<terminal>',\n",
       " '__future__',\n",
       " '_collections_abc',\n",
       " '_compat_pickle',\n",
       " '_compression',\n",
       " '_frozen_importlib',\n",
       " '_frozen_importlib_external',\n",
       " '_imp',\n",
       " '_io',\n",
       " '_locale',\n",
       " '_posixsubprocess',\n",
       " '_signal',\n",
       " '_socket',\n",
       " '_sre',\n",
       " '_string',\n",
       " '_thread',\n",
       " 'abc',\n",
       " 'argparse',\n",
       " 'ast',\n",
       " 'atexit',\n",
       " 'bdb',\n",
       " 'binascii',\n",
       " 'builtins',\n",
       " 'bz2',\n",
       " 'cmd',\n",
       " 'code',\n",
       " 'codecs',\n",
       " 'collections',\n",
       " 'collections.abc',\n",
       " 'copy',\n",
       " 'copyreg',\n",
       " 'difflib',\n",
       " 'dis',\n",
       " 'doctest',\n",
       " 'encodings',\n",
       " 'encodings.mbcs',\n",
       " 'enum',\n",
       " 'errno',\n",
       " 'fnmatch',\n",
       " 'functools',\n",
       " 'gc',\n",
       " 'genericpath',\n",
       " 'getopt',\n",
       " 'glob',\n",
       " 'grp',\n",
       " 'heapq',\n",
       " 'importlib',\n",
       " 'importlib.machinery',\n",
       " 'importlib.util',\n",
       " 'inspect',\n",
       " 'io',\n",
       " 'itertools',\n",
       " 'linecache',\n",
       " 'lzma',\n",
       " 'math',\n",
       " 'ntpath',\n",
       " 'os',\n",
       " 'pdb',\n",
       " 'pickle',\n",
       " 'posix',\n",
       " 'posixpath',\n",
       " 'pprint',\n",
       " 'pwd',\n",
       " 'py_compile',\n",
       " 'pydoc',\n",
       " 're',\n",
       " 'readline',\n",
       " 'reprlib',\n",
       " 'runpy',\n",
       " 'select',\n",
       " 'selectors',\n",
       " 'shlex',\n",
       " 'shutil',\n",
       " 'signal',\n",
       " 'socket',\n",
       " 'sre_compile',\n",
       " 'sre_parse',\n",
       " 'stat',\n",
       " 'string',\n",
       " 'struct',\n",
       " 'subprocess',\n",
       " 'sys',\n",
       " 'tarfile',\n",
       " 'tempfile',\n",
       " 'textwrap',\n",
       " 'threading',\n",
       " 'time',\n",
       " 'token',\n",
       " 'tokenize',\n",
       " 'traceback',\n",
       " 'tracemalloc',\n",
       " 'tty',\n",
       " 'types',\n",
       " 'unittest',\n",
       " 'warnings',\n",
       " 'weakref',\n",
       " 'webbrowser',\n",
       " 'zipfile',\n",
       " 'zlib'}"
      ]
     },
     "execution_count": 7,
     "metadata": {},
     "output_type": "execute_result"
    }
   ],
   "source": [
    "graph.keys()"
   ]
  },
  {
   "cell_type": "code",
   "execution_count": 5,
   "metadata": {},
   "outputs": [
    {
     "data": {
      "text/plain": [
       "['/Users/carter/.pyenv/versions/3.7.17/lib/python3.7/re.py',\n",
       " 'built-in',\n",
       " '/Users/carter/.pyenv/versions/3.7.17/lib/python3.7/doctest.py',\n",
       " '/Users/carter/.pyenv/versions/3.7.17/lib/python3.7/fnmatch.py',\n",
       " '/Users/carter/.pyenv/versions/3.7.17/lib/python3.7/shlex.py',\n",
       " '/Users/carter/.pyenv/versions/3.7.17/lib/python3.7/shutil.py',\n",
       " '/Users/carter/.pyenv/versions/3.7.17/lib/python3.7/dis.py',\n",
       " '/Users/carter/.pyenv/versions/3.7.17/lib/python3.7/abc.py',\n",
       " 'built-in',\n",
       " '/Users/carter/.pyenv/versions/3.7.17/lib/python3.7/lib-dynload/_lzma.cpython-37m-darwin.so',\n",
       " '/Users/carter/.pyenv/versions/3.7.17/lib/python3.7/os.py',\n",
       " 'built-in',\n",
       " 'built-in',\n",
       " '/Users/carter/.pyenv/versions/3.7.17/lib/python3.7/urllib/parse.py',\n",
       " '/Users/carter/.pyenv/versions/3.7.17/lib/python3.7/code.py',\n",
       " '/Users/carter/.pyenv/versions/3.7.17/lib/python3.7/argparse.py',\n",
       " '/Users/carter/.pyenv/versions/3.7.17/lib/python3.7/heapq.py',\n",
       " '/Users/carter/.pyenv/versions/3.7.17/lib/python3.7/logging/__init__.py',\n",
       " '/Users/carter/.pyenv/versions/3.7.17/lib/python3.7/opcode.py',\n",
       " '/Users/carter/.pyenv/versions/3.7.17/lib/python3.7/py_compile.py',\n",
       " '/Users/carter/.pyenv/versions/3.7.17/lib/python3.7/importlib/abc.py',\n",
       " '/Users/carter/.pyenv/versions/3.7.17/lib/python3.7/genericpath.py',\n",
       " '/Users/carter/.pyenv/versions/3.7.17/lib/python3.7/codecs.py',\n",
       " '/Users/carter/.pyenv/versions/3.7.17/lib/python3.7/selectors.py',\n",
       " '/Users/carter/.pyenv/versions/3.7.17/lib/python3.7/zipfile.py',\n",
       " '/Users/carter/.pyenv/versions/3.7.17/lib/python3.7/struct.py',\n",
       " '/Users/carter/.pyenv/versions/3.7.17/lib/python3.7/socket.py',\n",
       " 'built-in',\n",
       " '/Users/carter/.pyenv/versions/3.7.17/lib/python3.7/sre_compile.py',\n",
       " '/Users/carter/.pyenv/versions/3.7.17/lib/python3.7/difflib.py',\n",
       " '/Users/carter/.pyenv/versions/3.7.17/lib/python3.7/lib-dynload/math.cpython-37m-darwin.so',\n",
       " '/Users/carter/.pyenv/versions/3.7.17/lib/python3.7/importlib/machinery.py',\n",
       " 'built-in',\n",
       " '/Users/carter/.pyenv/versions/3.7.17/lib/python3.7/glob.py',\n",
       " '/Users/carter/.pyenv/versions/3.7.17/lib/python3.7/unittest/case.py',\n",
       " '/Users/carter/.pyenv/versions/3.7.17/lib/python3.7/threading.py',\n",
       " '/Users/carter/.pyenv/versions/3.7.17/lib/python3.7/importlib/__init__.py',\n",
       " '/Users/carter/.pyenv/versions/3.7.17/lib/python3.7/sre_parse.py',\n",
       " '/Users/carter/.pyenv/versions/3.7.17/lib/python3.7/operator.py',\n",
       " '/Users/carter/.pyenv/versions/3.7.17/lib/python3.7/lib-dynload/binascii.cpython-37m-darwin.so',\n",
       " '/Users/carter/.pyenv/versions/3.7.17/lib/python3.7/bz2.py',\n",
       " '/Users/carter/.pyenv/versions/3.7.17/lib/python3.7/tarfile.py',\n",
       " '/Users/carter/.pyenv/versions/3.7.17/lib/python3.7/encodings/aliases.py',\n",
       " '/Users/carter/.pyenv/versions/3.7.17/lib/python3.7/lib-dynload/zlib.cpython-37m-darwin.so',\n",
       " '/Users/carter/.pyenv/versions/3.7.17/lib/python3.7/functools.py',\n",
       " '/Users/carter/.pyenv/versions/3.7.17/lib/python3.7/inspect.py',\n",
       " '/Users/carter/.pyenv/versions/3.7.17/lib/python3.7/pickle.py',\n",
       " '/Users/carter/.pyenv/versions/3.7.17/lib/python3.7/codeop.py',\n",
       " '/Users/carter/.pyenv/versions/3.7.17/lib/python3.7/lib-dynload/_pickle.cpython-37m-darwin.so',\n",
       " '/Users/carter/.pyenv/versions/3.7.17/lib/python3.7/lib-dynload/grp.cpython-37m-darwin.so',\n",
       " '/Users/carter/.pyenv/versions/3.7.17/lib/python3.7/string.py',\n",
       " '/Users/carter/.pyenv/versions/3.7.17/lib/python3.7/lib-dynload/_opcode.cpython-37m-darwin.so',\n",
       " '/Users/carter/.pyenv/versions/3.7.17/lib/python3.7/tokenize.py',\n",
       " '/Users/carter/.pyenv/versions/3.7.17/lib/python3.7/_compat_pickle.py',\n",
       " '/Users/carter/.pyenv/versions/3.7.17/lib/python3.7/keyword.py',\n",
       " '/Users/carter/.pyenv/versions/3.7.17/lib/python3.7/tracemalloc.py',\n",
       " '/Users/carter/.pyenv/versions/3.7.17/lib/python3.7/pprint.py',\n",
       " '/Users/carter/.pyenv/versions/3.7.17/lib/python3.7/tempfile.py',\n",
       " '/Users/carter/.pyenv/versions/3.7.17/lib/python3.7/_bootlocale.py',\n",
       " '/Users/carter/.pyenv/versions/3.7.17/lib/python3.7/ntpath.py',\n",
       " '/Users/carter/.pyenv/versions/3.7.17/lib/python3.7/enum.py',\n",
       " '/Users/carter/.pyenv/versions/3.7.17/lib/python3.7/gettext.py',\n",
       " '/Users/carter/.pyenv/versions/3.7.17/lib/python3.7/token.py',\n",
       " '/Users/carter/.pyenv/versions/3.7.17/lib/python3.7/pkgutil.py',\n",
       " '/Users/carter/.pyenv/versions/3.7.17/lib/python3.7/importlib/util.py',\n",
       " 'built-in',\n",
       " '/Users/carter/.pyenv/versions/3.7.17/lib/python3.7/copy.py',\n",
       " '/Users/carter/.pyenv/versions/3.7.17/lib/python3.7/bdb.py',\n",
       " 'built-in',\n",
       " '/Users/carter/.pyenv/versions/3.7.17/lib/python3.7/lib-dynload/_bz2.cpython-37m-darwin.so',\n",
       " '/Users/carter/.pyenv/versions/3.7.17/lib/python3.7/subprocess.py',\n",
       " '/Users/carter/.pyenv/versions/3.7.17/lib/python3.7/types.py',\n",
       " '/Users/carter/.pyenv/versions/3.7.17/lib/python3.7/lib-dynload/_struct.cpython-37m-darwin.so',\n",
       " '/Users/carter/.pyenv/versions/3.7.17/lib/python3.7/hashlib.py',\n",
       " '/Users/carter/.pyenv/versions/3.7.17/lib/python3.7/_threading_local.py',\n",
       " 'built-in',\n",
       " '/Users/carter/.pyenv/versions/3.7.17/lib/python3.7/unittest/main.py',\n",
       " 'built-in',\n",
       " '/Users/carter/.pyenv/versions/3.7.17/lib/python3.7/contextlib.py',\n",
       " '/Users/carter/.pyenv/versions/3.7.17/lib/python3.7/unittest/__init__.py',\n",
       " '/Users/carter/.pyenv/versions/3.7.17/lib/python3.7/bisect.py',\n",
       " '/Users/carter/.pyenv/versions/3.7.17/lib/python3.7/weakref.py',\n",
       " '/Users/carter/.pyenv/versions/3.7.17/lib/python3.7/traceback.py',\n",
       " '/Users/carter/.pyenv/versions/3.7.17/lib/python3.7/encodings/mbcs.py',\n",
       " '/Users/carter/.pyenv/versions/3.7.17/lib/python3.7/signal.py',\n",
       " '/Users/carter/.pyenv/versions/3.7.17/lib/python3.7/warnings.py',\n",
       " '/Users/carter/.pyenv/versions/3.7.17/lib/python3.7/typing.py',\n",
       " 'built-in',\n",
       " '/Users/carter/.pyenv/versions/3.7.17/lib/python3.7/tty.py',\n",
       " 'built-in',\n",
       " '/Users/carter/.pyenv/versions/3.7.17/lib/python3.7/lib-dynload/_socket.cpython-37m-darwin.so',\n",
       " '/Users/carter/.pyenv/versions/3.7.17/lib/python3.7/cmd.py',\n",
       " '/Users/carter/.pyenv/versions/3.7.17/lib/python3.7/urllib/__init__.py',\n",
       " '/Users/carter/.pyenv/versions/3.7.17/lib/python3.7/sre_constants.py',\n",
       " '/Users/carter/.pyenv/versions/3.7.17/lib/python3.7/getopt.py',\n",
       " '/Users/carter/.pyenv/versions/3.7.17/lib/python3.7/unittest/suite.py',\n",
       " '/Users/carter/.pyenv/versions/3.7.17/lib/python3.7/pathlib.py',\n",
       " '/Users/carter/.pyenv/versions/3.7.17/lib/python3.7/random.py',\n",
       " '/Users/carter/.pyenv/versions/3.7.17/lib/python3.7/unittest/signals.py',\n",
       " '/Users/carter/.pyenv/versions/3.7.17/lib/python3.7/lib-dynload/_posixsubprocess.cpython-37m-darwin.so',\n",
       " '/Users/carter/.pyenv/versions/3.7.17/lib/python3.7/unittest/loader.py',\n",
       " '/Users/carter/.pyenv/versions/3.7.17/lib/python3.7/_collections_abc.py',\n",
       " '/Users/carter/.pyenv/versions/3.7.17/lib/python3.7/encodings/__init__.py',\n",
       " '/Users/carter/.pyenv/versions/3.7.17/lib/python3.7/ast.py',\n",
       " '/Users/carter/.pyenv/versions/3.7.17/lib/python3.7/__future__.py',\n",
       " '/Users/carter/.pyenv/versions/3.7.17/lib/python3.7/lzma.py',\n",
       " '/Users/carter/.pyenv/versions/3.7.17/lib/python3.7/lib-dynload/readline.cpython-37m-darwin.so',\n",
       " '/Users/carter/.pyenv/versions/3.7.17/lib/python3.7/_py_abc.py',\n",
       " '/Users/carter/.pyenv/versions/3.7.17/lib/python3.7/textwrap.py',\n",
       " '/Users/carter/.pyenv/versions/3.7.17/lib/python3.7/lib-dynload/_random.cpython-37m-darwin.so',\n",
       " 'frozen',\n",
       " '/Users/carter/.pyenv/versions/3.7.17/lib/python3.7/webbrowser.py',\n",
       " '/Users/carter/.pyenv/versions/3.7.17/lib/python3.7/io.py',\n",
       " '/Users/carter/.pyenv/versions/3.7.17/lib/python3.7/collections/abc.py',\n",
       " 'built-in',\n",
       " 'built-in',\n",
       " '/Users/carter/.pyenv/versions/3.7.17/lib/python3.7/unittest/util.py',\n",
       " '/Users/carter/.pyenv/versions/3.7.17/lib/python3.7/pdb.py',\n",
       " '/Users/carter/.pyenv/versions/3.7.17/lib/python3.7/gzip.py',\n",
       " 'built-in',\n",
       " 'built-in',\n",
       " '/Users/carter/.pyenv/versions/3.7.17/lib/python3.7/runpy.py',\n",
       " '/Users/carter/.pyenv/versions/3.7.17/lib/python3.7/posixpath.py',\n",
       " '/Users/carter/.pyenv/versions/3.7.17/lib/python3.7/locale.py',\n",
       " '/Users/carter/.pyenv/versions/3.7.17/lib/python3.7/lib-dynload/_hashlib.cpython-37m-darwin.so',\n",
       " '/Users/carter/.pyenv/versions/3.7.17/lib/python3.7/lib-dynload/select.cpython-37m-darwin.so',\n",
       " '/Users/carter/.pyenv/versions/3.7.17/lib/python3.7/_weakrefset.py',\n",
       " '/Users/carter/.pyenv/versions/3.7.17/lib/python3.7/stat.py',\n",
       " 'built-in',\n",
       " 'built-in',\n",
       " 'built-in',\n",
       " '/Users/carter/.pyenv/versions/3.7.17/lib/python3.7/reprlib.py',\n",
       " '/Users/carter/.pyenv/versions/3.7.17/lib/python3.7/unittest/result.py',\n",
       " '/Users/carter/.pyenv/versions/3.7.17/lib/python3.7/unittest/runner.py',\n",
       " '/Users/carter/.pyenv/versions/3.7.17/lib/python3.7/copyreg.py',\n",
       " 'built-in',\n",
       " '/Users/carter/.pyenv/versions/3.7.17/lib/python3.7/pydoc.py',\n",
       " '/Users/carter/.pyenv/versions/3.7.17/lib/python3.7/linecache.py',\n",
       " '/Users/carter/.pyenv/versions/3.7.17/lib/python3.7/_compression.py',\n",
       " '/Users/carter/.pyenv/versions/3.7.17/lib/python3.7/lib-dynload/_heapq.cpython-37m-darwin.so',\n",
       " '/Users/carter/.pyenv/versions/3.7.17/lib/python3.7/collections/__init__.py',\n",
       " 'built-in',\n",
       " '/Users/carter/.pyenv/versions/3.7.17/lib/python3.7/lib-dynload/unicodedata.cpython-37m-darwin.so',\n",
       " 'built-in']"
      ]
     },
     "execution_count": 5,
     "metadata": {},
     "output_type": "execute_result"
    }
   ],
   "source": [
    "graph.origins()"
   ]
  },
  {
   "cell_type": "code",
   "execution_count": 9,
   "metadata": {},
   "outputs": [],
   "source": [
    "def _resolve_name(name, package, level):\n",
    "    \"\"\"Resolve a relative module name to an absolute one.\"\"\"\n",
    "    bits = package.rsplit('.', level - 1)\n",
    "    if len(bits) < level:\n",
    "        raise ImportError('attempted relative import beyond top-level package')\n",
    "    base = bits[0]\n",
    "    return '{}.{}'.format(base, name) if name else base"
   ]
  },
  {
   "cell_type": "code",
   "execution_count": 10,
   "metadata": {},
   "outputs": [
    {
     "data": {
      "text/plain": [
       "'__main__'"
      ]
     },
     "execution_count": 10,
     "metadata": {},
     "output_type": "execute_result"
    }
   ],
   "source": [
    "_resolve_name('', '__main__', 1)"
   ]
  },
  {
   "cell_type": "code",
   "execution_count": null,
   "metadata": {},
   "outputs": [],
   "source": []
  }
 ],
 "metadata": {
  "kernelspec": {
   "display_name": "Python 3",
   "language": "python",
   "name": "python3"
  },
  "language_info": {
   "codemirror_mode": {
    "name": "ipython",
    "version": 3
   },
   "file_extension": ".py",
   "mimetype": "text/x-python",
   "name": "python",
   "nbconvert_exporter": "python",
   "pygments_lexer": "ipython3",
   "version": "3.7.17"
  },
  "orig_nbformat": 4
 },
 "nbformat": 4,
 "nbformat_minor": 2
}
