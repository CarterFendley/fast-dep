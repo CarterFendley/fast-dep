{
 "cells": [
  {
   "cell_type": "code",
   "execution_count": 1,
   "metadata": {},
   "outputs": [],
   "source": [
    "from os import environ\n",
    "\n",
    "environ['RUST_BACKTRACE'] = '1'\n",
    "environ['RUST_LOG'] = 'debug'"
   ]
  },
  {
   "cell_type": "code",
   "execution_count": 1,
   "metadata": {},
   "outputs": [],
   "source": [
    "import logging\n",
    "\n",
    "logging.basicConfig(level=logging.DEBUG)"
   ]
  },
  {
   "cell_type": "code",
   "execution_count": 1,
   "metadata": {},
   "outputs": [],
   "source": [
    "from fast_dep import GraphBuilder"
   ]
  },
  {
   "cell_type": "code",
   "execution_count": 2,
   "metadata": {},
   "outputs": [],
   "source": [
    "builder = GraphBuilder()"
   ]
  },
  {
   "cell_type": "code",
   "execution_count": 3,
   "metadata": {},
   "outputs": [],
   "source": [
    "with open('res/very_simple.py', 'r') as f:\n",
    "    source = f.read()"
   ]
  },
  {
   "cell_type": "code",
   "execution_count": 4,
   "metadata": {},
   "outputs": [],
   "source": [
    "graph = builder.build(source)"
   ]
  },
  {
   "cell_type": "code",
   "execution_count": 5,
   "metadata": {},
   "outputs": [],
   "source": [
    "termainal = graph.get('<terminal>')"
   ]
  },
  {
   "cell_type": "code",
   "execution_count": 6,
   "metadata": {},
   "outputs": [
    {
     "data": {
      "text/plain": [
       "2"
      ]
     },
     "execution_count": 6,
     "metadata": {},
     "output_type": "execute_result"
    }
   ],
   "source": [
    "termainal.dependencies"
   ]
  },
  {
   "cell_type": "code",
   "execution_count": 7,
   "metadata": {},
   "outputs": [],
   "source": [
    "from importlib.util import find_spec\n",
    "\n",
    "find_spec('nt')"
   ]
  },
  {
   "cell_type": "code",
   "execution_count": 8,
   "metadata": {},
   "outputs": [
    {
     "data": {
      "text/plain": [
       "140"
      ]
     },
     "execution_count": 8,
     "metadata": {},
     "output_type": "execute_result"
    }
   ],
   "source": [
    "graph.size()"
   ]
  },
  {
   "cell_type": "code",
   "execution_count": 7,
   "metadata": {},
   "outputs": [
    {
     "data": {
      "text/plain": [
       "{'<terminal>',\n",
       " '__future__',\n",
       " '_collections_abc',\n",
       " '_compat_pickle',\n",
       " '_compression',\n",
       " '_frozen_importlib',\n",
       " '_frozen_importlib_external',\n",
       " '_imp',\n",
       " '_io',\n",
       " '_locale',\n",
       " '_posixsubprocess',\n",
       " '_signal',\n",
       " '_socket',\n",
       " '_sre',\n",
       " '_string',\n",
       " '_thread',\n",
       " 'abc',\n",
       " 'argparse',\n",
       " 'ast',\n",
       " 'atexit',\n",
       " 'bdb',\n",
       " 'binascii',\n",
       " 'builtins',\n",
       " 'bz2',\n",
       " 'cmd',\n",
       " 'code',\n",
       " 'codecs',\n",
       " 'collections',\n",
       " 'collections.abc',\n",
       " 'copy',\n",
       " 'copyreg',\n",
       " 'difflib',\n",
       " 'dis',\n",
       " 'doctest',\n",
       " 'encodings',\n",
       " 'encodings.mbcs',\n",
       " 'enum',\n",
       " 'errno',\n",
       " 'fnmatch',\n",
       " 'functools',\n",
       " 'gc',\n",
       " 'genericpath',\n",
       " 'getopt',\n",
       " 'glob',\n",
       " 'grp',\n",
       " 'heapq',\n",
       " 'importlib',\n",
       " 'importlib.machinery',\n",
       " 'importlib.util',\n",
       " 'inspect',\n",
       " 'io',\n",
       " 'itertools',\n",
       " 'linecache',\n",
       " 'lzma',\n",
       " 'math',\n",
       " 'ntpath',\n",
       " 'os',\n",
       " 'pdb',\n",
       " 'pickle',\n",
       " 'posix',\n",
       " 'posixpath',\n",
       " 'pprint',\n",
       " 'pwd',\n",
       " 'py_compile',\n",
       " 'pydoc',\n",
       " 're',\n",
       " 'readline',\n",
       " 'reprlib',\n",
       " 'runpy',\n",
       " 'select',\n",
       " 'selectors',\n",
       " 'shlex',\n",
       " 'shutil',\n",
       " 'signal',\n",
       " 'socket',\n",
       " 'sre_compile',\n",
       " 'sre_parse',\n",
       " 'stat',\n",
       " 'string',\n",
       " 'struct',\n",
       " 'subprocess',\n",
       " 'sys',\n",
       " 'tarfile',\n",
       " 'tempfile',\n",
       " 'textwrap',\n",
       " 'threading',\n",
       " 'time',\n",
       " 'token',\n",
       " 'tokenize',\n",
       " 'traceback',\n",
       " 'tracemalloc',\n",
       " 'tty',\n",
       " 'types',\n",
       " 'unittest',\n",
       " 'warnings',\n",
       " 'weakref',\n",
       " 'webbrowser',\n",
       " 'zipfile',\n",
       " 'zlib'}"
      ]
     },
     "execution_count": 7,
     "metadata": {},
     "output_type": "execute_result"
    }
   ],
   "source": [
    "graph.keys()"
   ]
  },
  {
   "cell_type": "code",
   "execution_count": 8,
   "metadata": {},
   "outputs": [
    {
     "ename": "AttributeError",
     "evalue": "'builtins.DepGraph' object has no attribute 'nodes'",
     "output_type": "error",
     "traceback": [
      "\u001b[0;31m---------------------------------------------------------------------------\u001b[0m",
      "\u001b[0;31mAttributeError\u001b[0m                            Traceback (most recent call last)",
      "\u001b[0;32m/var/folders/92/75mxck_s5yb7r22lq6rz7dvr0000gn/T/ipykernel_94361/834249861.py\u001b[0m in \u001b[0;36m<module>\u001b[0;34m\u001b[0m\n\u001b[0;32m----> 1\u001b[0;31m \u001b[0mgraph\u001b[0m\u001b[0;34m.\u001b[0m\u001b[0mnodes\u001b[0m\u001b[0;34m\u001b[0m\u001b[0;34m\u001b[0m\u001b[0m\n\u001b[0m",
      "\u001b[0;31mAttributeError\u001b[0m: 'builtins.DepGraph' object has no attribute 'nodes'"
     ]
    }
   ],
   "source": [
    "graph.nodes"
   ]
  },
  {
   "cell_type": "code",
   "execution_count": 9,
   "metadata": {},
   "outputs": [],
   "source": [
    "def _resolve_name(name, package, level):\n",
    "    \"\"\"Resolve a relative module name to an absolute one.\"\"\"\n",
    "    bits = package.rsplit('.', level - 1)\n",
    "    if len(bits) < level:\n",
    "        raise ImportError('attempted relative import beyond top-level package')\n",
    "    base = bits[0]\n",
    "    return '{}.{}'.format(base, name) if name else base"
   ]
  },
  {
   "cell_type": "code",
   "execution_count": 10,
   "metadata": {},
   "outputs": [
    {
     "data": {
      "text/plain": [
       "'__main__'"
      ]
     },
     "execution_count": 10,
     "metadata": {},
     "output_type": "execute_result"
    }
   ],
   "source": [
    "_resolve_name('', '__main__', 1)"
   ]
  },
  {
   "cell_type": "code",
   "execution_count": null,
   "metadata": {},
   "outputs": [],
   "source": []
  }
 ],
 "metadata": {
  "kernelspec": {
   "display_name": "Python 3",
   "language": "python",
   "name": "python3"
  },
  "language_info": {
   "codemirror_mode": {
    "name": "ipython",
    "version": 3
   },
   "file_extension": ".py",
   "mimetype": "text/x-python",
   "name": "python",
   "nbconvert_exporter": "python",
   "pygments_lexer": "ipython3",
   "version": "3.7.17"
  },
  "orig_nbformat": 4
 },
 "nbformat": 4,
 "nbformat_minor": 2
}
