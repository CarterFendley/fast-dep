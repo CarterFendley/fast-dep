{
 "cells": [
  {
   "cell_type": "code",
   "execution_count": 1,
   "metadata": {},
   "outputs": [],
   "source": [
    "# Debugging things\n",
    "from os import environ\n",
    "\n",
    "environ['RUST_BACKTRACE'] = '1'\n",
    "\n",
    "import logging\n",
    "\n",
    "logging.basicConfig(level=logging.INFO)"
   ]
  },
  {
   "cell_type": "code",
   "execution_count": 2,
   "metadata": {},
   "outputs": [
    {
     "name": "stderr",
     "output_type": "stream",
     "text": [
      "INFO:fast_dep.core.builder:Building pyroscope agent: testing-0\n",
      "INFO:pprof.profiler:starting cpu profiler\n",
      "INFO:Pyroscope.Timer:Initializing Timer\n",
      "INFO:Pyroscope.Session:Creating SessionManager\n",
      "INFO:fast_dep.core.builder:Pyroscope agent started: testing-0\n",
      "INFO:fast_dep.core.builder:Building graph...\n",
      "/Users/carter/.pyenv/versions/3.7.17/lib/python3.7/site-packages/IPython/core/interactiveshell.py:3553: VisibleDeprecationWarning: zmq.eventloop.minitornado is deprecated in pyzmq 14.0 and will be removed.\n",
      "    Install tornado itself to use zmq with the tornado IOLoop.\n",
      "    \n",
      "  exec(code_obj, self.user_global_ns, self.user_ns)\n",
      "/Users/carter/.pyenv/versions/3.7.17/lib/python3.7/site-packages/IPython/kernel/__init__.py:13: ShimWarning: The `IPython.kernel` package has been deprecated since IPython 4.0.You should import from ipykernel or jupyter_client instead.\n",
      "  \"You should import from ipykernel or jupyter_client instead.\", ShimWarning)\n"
     ]
    }
   ],
   "source": [
    "import pandas\n",
    "import inspect\n",
    "from fast_dep import GraphBuilder\n",
    "\n",
    "builder = GraphBuilder(\n",
    "    pyro_server=\"http://localhost:4040\",\n",
    "    pyro_app_name=\"testing\",\n",
    ")\n",
    "\n",
    "graph = builder.build(\n",
    "    inspect.getsource(pandas)\n",
    ")"
   ]
  }
 ],
 "metadata": {
  "kernelspec": {
   "display_name": "Python 3",
   "language": "python",
   "name": "python3"
  },
  "language_info": {
   "codemirror_mode": {
    "name": "ipython",
    "version": 3
   },
   "file_extension": ".py",
   "mimetype": "text/x-python",
   "name": "python",
   "nbconvert_exporter": "python",
   "pygments_lexer": "ipython3",
   "version": "3.7.17"
  }
 },
 "nbformat": 4,
 "nbformat_minor": 2
}
