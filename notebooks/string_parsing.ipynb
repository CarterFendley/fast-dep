{
 "cells": [
  {
   "cell_type": "code",
   "execution_count": null,
   "metadata": {},
   "outputs": [],
   "source": [
    "letters = (\"r\", \"b\", \"u\", \"f\")"
   ]
  },
  {
   "cell_type": "code",
   "execution_count": null,
   "metadata": {},
   "outputs": [],
   "source": [
    "import itertools\n",
    "\n",
    "perm = list(itertools.permutations(letters))"
   ]
  },
  {
   "cell_type": "code",
   "execution_count": null,
   "metadata": {},
   "outputs": [],
   "source": [
    "def to_rule(list):\n",
    "    s = None\n",
    "    for e in list:\n",
    "        if s is not None:\n",
    "            s += ' ~ '\n",
    "        else:\n",
    "            s = \"\"\n",
    "        s += f'(\"{e}\" | \"{e.upper()}\")'\n",
    "    \n",
    "    s = \"{ \" + s + \" }\"\n",
    "    return s"
   ]
  },
  {
   "cell_type": "code",
   "execution_count": null,
   "metadata": {},
   "outputs": [],
   "source": [
    "lol = set()\n",
    "\n",
    "for p in perm:\n",
    "    for i in range(len(p)):\n",
    "        lol.add(to_rule(p[:i+1]))"
   ]
  },
  {
   "cell_type": "code",
   "execution_count": null,
   "metadata": {},
   "outputs": [],
   "source": [
    "lol"
   ]
  },
  {
   "cell_type": "code",
   "execution_count": null,
   "metadata": {},
   "outputs": [],
   "source": [
    "names = []\n",
    "for i, r in enumerate(lol):\n",
    "    print(f\"m{i} = {r}\")\n",
    "    names.append(f\"m{i}\")"
   ]
  },
  {
   "cell_type": "code",
   "execution_count": null,
   "metadata": {},
   "outputs": [],
   "source": [
    "text = \"\"\n",
    "for i, name in enumerate(names):\n",
    "    if i % 10 == 0:\n",
    "        text += \"\\n\\t| \"\n",
    "    else:\n",
    "        text += \" | \"\n",
    "    text += name\n",
    "\n",
    "print(\"string_modifiers = {\" + text + \"\\n}\")"
   ]
  },
  {
   "cell_type": "code",
   "execution_count": null,
   "metadata": {},
   "outputs": [],
   "source": []
  }
 ],
 "metadata": {
  "kernelspec": {
   "display_name": "Python 3",
   "language": "python",
   "name": "python3"
  },
  "language_info": {
   "codemirror_mode": {
    "name": "ipython",
    "version": 3
   },
   "file_extension": ".py",
   "mimetype": "text/x-python",
   "name": "python",
   "nbconvert_exporter": "python",
   "pygments_lexer": "ipython3",
   "version": "3.7.17"
  },
  "orig_nbformat": 4
 },
 "nbformat": 4,
 "nbformat_minor": 2
}
